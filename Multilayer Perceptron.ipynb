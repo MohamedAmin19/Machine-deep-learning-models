{
 "cells": [
  {
   "cell_type": "code",
   "execution_count": 8,
   "id": "74a3894b",
   "metadata": {},
   "outputs": [
    {
     "name": "stdout",
     "output_type": "stream",
     "text": [
      "Epoch 1/10\n",
      "160/160 [==============================] - 1s 6ms/step - loss: 0.7670 - accuracy: 0.7579 - val_loss: 0.2759 - val_accuracy: 0.9090\n",
      "Epoch 2/10\n",
      "160/160 [==============================] - 1s 6ms/step - loss: 0.1823 - accuracy: 0.9364 - val_loss: 0.1466 - val_accuracy: 0.9470\n",
      "Epoch 3/10\n",
      "160/160 [==============================] - 1s 5ms/step - loss: 0.1411 - accuracy: 0.9472 - val_loss: 0.1325 - val_accuracy: 0.9515\n",
      "Epoch 4/10\n",
      "160/160 [==============================] - 1s 5ms/step - loss: 0.1289 - accuracy: 0.9515 - val_loss: 0.1217 - val_accuracy: 0.9547\n",
      "Epoch 5/10\n",
      "160/160 [==============================] - 1s 5ms/step - loss: 0.1190 - accuracy: 0.9552 - val_loss: 0.1154 - val_accuracy: 0.9594\n",
      "Epoch 6/10\n",
      "160/160 [==============================] - 1s 6ms/step - loss: 0.1105 - accuracy: 0.9580 - val_loss: 0.1061 - val_accuracy: 0.9587\n",
      "Epoch 7/10\n",
      "160/160 [==============================] - 1s 6ms/step - loss: 0.1032 - accuracy: 0.9607 - val_loss: 0.0996 - val_accuracy: 0.9591\n",
      "Epoch 8/10\n",
      "160/160 [==============================] - 1s 6ms/step - loss: 0.0956 - accuracy: 0.9629 - val_loss: 0.0915 - val_accuracy: 0.9630\n",
      "Epoch 9/10\n",
      "160/160 [==============================] - 1s 5ms/step - loss: 0.0873 - accuracy: 0.9644 - val_loss: 0.0868 - val_accuracy: 0.9657\n",
      "Epoch 10/10\n",
      "160/160 [==============================] - 1s 6ms/step - loss: 0.0788 - accuracy: 0.9668 - val_loss: 0.0753 - val_accuracy: 0.9707\n",
      "test loss, test acc: [0.07505318522453308, 0.970771849155426]\n",
      "Precision: 0.977384102424149\n",
      "Recall: 0.9639559513639395\n",
      "F1-score: 0.9706235859728507\n",
      "Confusion Matrix : \n",
      " [[83232  1906]\n",
      " [ 3080 82371]]\n",
      "\n"
     ]
    },
    {
     "data": {
      "image/png": "[encoded data removed]",
      "text/plain": [
       "<Figure size 864x432 with 2 Axes>"
      ]
     },
     "metadata": {
      "needs_background": "light"
     },
     "output_type": "display_data"
    }
   ],
   "source": [
    "import tensorflow as tf\n",
    "import numpy as np\n",
    "import pandas as pd\n",
    "from sklearn.model_selection import train_test_split\n",
    "from tensorflow.keras.models import Sequential\n",
    "from tensorflow.keras.layers import Flatten\n",
    "from tensorflow.keras.layers import Dense\n",
    "from sklearn.preprocessing import OrdinalEncoder\n",
    "from tensorflow.keras.layers import Activation\n",
    "from sklearn.preprocessing import StandardScaler\n",
    "from sklearn.metrics import accuracy_score,classification_report,confusion_matrix\n",
    "import matplotlib.pyplot as plt\n",
    "import seaborn as sns\n",
    "import matplotlib.pyplot as plt\n",
    "import sklearn.metrics as metrics\n",
    "\n",
    "data = pd.read_csv('creditcard.csv')\n",
    "\n",
    "count_class_0, count_class_1 = data.Class.value_counts()\n",
    "\n",
    "df_class_0 = data[data['Class'] == 0]\n",
    "df_class_1 = data[data['Class'] == 1]\n",
    "\n",
    "df_class_1_over = df_class_1.sample(count_class_0, replace=True)\n",
    "df_test_over = pd.concat([df_class_0, df_class_1_over], axis=0)\n",
    "\n",
    "y = df_test_over['Class']\n",
    "X = df_test_over.drop('Class', axis = 1)\n",
    "\n",
    "cols = X.columns\n",
    "num_cols = X._get_numeric_data().columns\n",
    "cat_cols = list(set(cols) - set(num_cols))\n",
    "\n",
    "oe=OrdinalEncoder()\n",
    "X[cat_cols]=oe.fit_transform(X[cat_cols])\n",
    "\n",
    "X_train, X_test, y_train, y_test = train_test_split(X, y, test_size=0.3, random_state=42)\n",
    "sc = StandardScaler()\n",
    "X_train = sc.fit_transform(X_train)\n",
    "X_test = sc.transform(X_test)\n",
    "# dataset2 = pd.read_csv('test_transaction.csv')\n",
    "# cols=['TransactionID','TransactionDT','TransactionAmt','ProductCD','card1','card2','card3','card4','card5','card6']\n",
    "# data2=dataset2[cols]\n",
    "model = Sequential([\n",
    "      # dense layer 1\n",
    "    Dense(256, activation='sigmoid'),  \n",
    "    \n",
    "    # dense layer 2\n",
    "    Dense(128, activation='sigmoid'), \n",
    "    \n",
    "      # output layer\n",
    "    Dense(10, activation='sigmoid'),  \n",
    "])\n",
    "model.compile(optimizer='adam',\n",
    "              loss='sparse_categorical_crossentropy',\n",
    "              metrics=['accuracy'])\n",
    "\n",
    "model.fit(X_train, y_train, epochs=10, \n",
    "          batch_size=2000, \n",
    "          validation_split=0.2)\n",
    "results = model.evaluate(X_test,  y_test, verbose = 0)\n",
    "yhat_classes = model.predict_classes(X_test, verbose=0)\n",
    "print('test loss, test acc:', results)\n",
    "print(\"Precision:\", metrics.precision_score(y_test,yhat_classes))\n",
    "print(\"Recall:\", metrics.recall_score(y_test, yhat_classes))\n",
    "print(\"F1-score:\", (2*metrics.precision_score(y_test, yhat_classes)*metrics.recall_score(y_test, yhat_classes)) / (metrics.precision_score(y_test, yhat_classes) + metrics.recall_score(y_test, yhat_classes)))\n",
    "cm = confusion_matrix(y_test, yhat_classes)  \n",
    "print (\"Confusion Matrix : \\n\", cm)\n",
    "print(\"\")\n",
    "\n",
    "cm=confusion_matrix(y_test,yhat_classes)\n",
    "plt.figure(figsize=(12,6))\n",
    "plt.title(\"Confusion Matrix\")\n",
    "sns.heatmap(cm, annot=True,fmt='d', cmap='Blues')\n",
    "plt.ylabel(\"Actual Values\")\n",
    "plt.xlabel(\"Predicted Values\")\n",
    "plt.savefig('confusion_matrix.png')"
   ]
  }
 ],
 "metadata": {
  "kernelspec": {
   "display_name": "Python 3",
   "language": "python",
   "name": "python3"
  },
  "language_info": {
   "codemirror_mode": {
    "name": "ipython",
    "version": 3
   },
   "file_extension": ".py",
   "mimetype": "text/x-python",
   "name": "python",
   "nbconvert_exporter": "python",
   "pygments_lexer": "ipython3",
   "version": "3.8.8"
  }
 },
 "nbformat": 4,
 "nbformat_minor": 5
}
